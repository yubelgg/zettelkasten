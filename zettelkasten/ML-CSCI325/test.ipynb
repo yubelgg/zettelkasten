{
 "cells": [
  {
   "cell_type": "code",
   "execution_count": 4,
   "metadata": {},
   "outputs": [
    {
     "name": "stdout",
     "output_type": "stream",
     "text": [
      "[2, 8, 4, 8]\n",
      "2\n",
      "4\n",
      "8\n",
      "8\n"
     ]
    }
   ],
   "source": [
    "import heapq\n",
    "nums = [8,4,2,8]\n",
    "hq = []\n",
    "for i in nums:\n",
    "    heapq.heappush(hq, i)\n",
    "print(hq)\n",
    "for i in range(len(hq)):\n",
    "    print(heapq.heappop(hq))"
   ]
  }
 ],
 "metadata": {
  "kernelspec": {
   "display_name": "Python 3",
   "language": "python",
   "name": "python3"
  },
  "language_info": {
   "codemirror_mode": {
    "name": "ipython",
    "version": 3
   },
   "file_extension": ".py",
   "mimetype": "text/x-python",
   "name": "python",
   "nbconvert_exporter": "python",
   "pygments_lexer": "ipython3",
   "version": "3.12.5"
  }
 },
 "nbformat": 4,
 "nbformat_minor": 2
}
